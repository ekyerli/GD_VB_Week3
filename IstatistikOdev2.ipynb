{
 "cells": [
  {
   "cell_type": "markdown",
   "id": "permanent-operation",
   "metadata": {},
   "source": [
    "#A şirketinin sattığı bilgisayarın bazılarının bozuk olduğu tespit edilmiştir. Bilgisyar üreten 3 şirket (A, B ve C) olduğunu varsayımı altında, bu şirketlerin bilgisayar üretim miktarı ve bozuk üretim olasılıkları şu şekildedir:\n",
    "\n",
    "Toplam Üretim Yüzdesi :\n",
    "\n",
    "P\n",
    "(\n",
    "A\n",
    ")\n",
    "=\n",
    "0.40\n",
    "\n",
    "P\n",
    "(\n",
    "B\n",
    ")\n",
    "=\n",
    "0.40\n",
    "\n",
    "P\n",
    "(\n",
    "C\n",
    ")\n",
    "=\n",
    "0.20\n",
    "\n",
    "\n",
    "Hatalı Üretim Olasılığı : \n",
    "\n",
    "P\n",
    "(\n",
    "D\n",
    "|\n",
    "A\n",
    ")\n",
    "=\n",
    "0.015\n",
    "\n",
    "P\n",
    "(\n",
    "D\n",
    "|\n",
    "B\n",
    ")\n",
    "=\n",
    "0.020\n",
    "\n",
    "P\n",
    "(\n",
    "D\n",
    "|\n",
    "C\n",
    ")\n",
    "=\n",
    "0.010\n",
    "\n",
    "Rastgele seçilen bir bozuk bir bilgisayarın B şirketi tarafından üretilme olasılığı nedir?"
   ]
  },
  {
   "cell_type": "code",
   "execution_count": 8,
   "id": "rational-prague",
   "metadata": {},
   "outputs": [
    {
     "name": "stdout",
     "output_type": "stream",
     "text": [
      "0.5\n"
     ]
    }
   ],
   "source": [
    "#P(B|D)=(P(D|B) * P(B))/P(D)=a*b\\c\n",
    "a=0.40\n",
    "b=0.02\n",
    "c=((0.4*0.015+0.4*0.02+0.2*0.01)/1)\n",
    "print(a*b/c)"
   ]
  },
  {
   "cell_type": "code",
   "execution_count": null,
   "id": "requested-antibody",
   "metadata": {},
   "outputs": [],
   "source": []
  }
 ],
 "metadata": {
  "kernelspec": {
   "display_name": "Python 3",
   "language": "python",
   "name": "python3"
  },
  "language_info": {
   "codemirror_mode": {
    "name": "ipython",
    "version": 3
   },
   "file_extension": ".py",
   "mimetype": "text/x-python",
   "name": "python",
   "nbconvert_exporter": "python",
   "pygments_lexer": "ipython3",
   "version": "3.9.2"
  }
 },
 "nbformat": 4,
 "nbformat_minor": 5
}
