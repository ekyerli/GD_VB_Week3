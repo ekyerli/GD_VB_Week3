{
 "cells": [
  {
   "cell_type": "code",
   "execution_count": 1,
   "id": "tamil-spirituality",
   "metadata": {},
   "outputs": [
    {
     "name": "stdout",
     "output_type": "stream",
     "text": [
      "[66 45 51  3 78 20 85 57 23 91 78  2 13  1 87  7 43 77  5 85 85 39 16 20\n",
      " 23 59 23 49  0 10 97 99 46 86 11 55 68 47 17 41 16 67 68 27 15 24 29 85\n",
      " 21 75 15 65 39  4 30 32 25  9 77 80 27 49 55 89 68 63 66 21 22  5 23 53\n",
      " 92 13 44 61 23 59 95 26 38 58 74  7 31 94  0 57 30 83 92 44 10 53 28 21\n",
      " 53 87  3 72]\n",
      "[68 89 36 66 47 18 35 49 65 99  7 46 37 74 34 99 36 67 30 91 28 16 57 14\n",
      "  3 60 40 87 99 25 60 79 27 18 71  3 56 87 85 38 33 46 59 62 36 20 58 47\n",
      " 60 32 47 43 49 18 20 96  8 88 46 53 68 50 14 52 44 18 46 52 98 76  4 61\n",
      " 24 65 72 75 49  1 89 66 85 21 39 91 28 37 86 76 21 15 30 37 72 98 50 52\n",
      " 54 89 75 98]\n",
      "[27 70 60 28 55 90 42 90 32 89 54 84 48 42 76  7 26 95 94 71 44 34 62 50\n",
      " 79 44 26 82 96 65 30  1  9 67 71 25 30 30 29 40 63 96 16 83 22 90  6  7\n",
      " 23 93 59  5 54 17  4 67 73 54 56 98 69 70 67 15 80 38 76 60 19 19 53 88\n",
      " 61  3 60 15 65 82 13 69  7 43 30 51 76  8 33 69 45  7 60  7 25 67 91 29\n",
      " 64 99 72 49]\n"
     ]
    }
   ],
   "source": [
    "#numpy kütüphanesini kullanarak üreteceğiniz 3 farklı veri aracılığı ile merkezi eğilim ve dağılım ölçümlerini hem yukarıda verilen matematiksel formülle hem de python'da hazır bulunan (built-in) kodlar aracılığıyla analiz edin!!!\n",
    "import numpy as np\n",
    "rassal1 = np. random.randint(100, size=100)\n",
    "rassal2 = np. random.randint(100, size=100)\n",
    "rassal3 = np. random.randint(100, size=100)\n",
    "print(rassal1)\n",
    "print(rassal2)\n",
    "print(rassal3)"
   ]
  },
  {
   "cell_type": "code",
   "execution_count": 2,
   "id": "flying-appointment",
   "metadata": {},
   "outputs": [
    {
     "name": "stdout",
     "output_type": "stream",
     "text": [
      "45.0\n",
      "45.0\n",
      "51.45\n",
      "51.45\n",
      "50.34\n",
      "50.34\n"
     ]
    }
   ],
   "source": [
    "#ortalama\n",
    "print(sum(rassal1) / len(rassal1))\n",
    "print(np.mean(rassal1))\n",
    "print(sum(rassal2) / len(rassal2))\n",
    "print(np.mean(rassal2))\n",
    "print(sum(rassal3) / len(rassal3))\n",
    "print(np.mean(rassal3))"
   ]
  },
  {
   "cell_type": "code",
   "execution_count": 3,
   "id": "heard-maple",
   "metadata": {},
   "outputs": [
    {
     "name": "stdout",
     "output_type": "stream",
     "text": [
      "44.0\n",
      "49.5\n",
      "54.0\n",
      "44.0\n",
      "49.5\n",
      "54.0\n"
     ]
    }
   ],
   "source": [
    "#Median \n",
    "def median(rassal):\n",
    "    n = len(rassal)\n",
    "    if n < 1:\n",
    "            return None\n",
    "    if n % 2 == 1:\n",
    "            return sorted(rassal)[n//2]\n",
    "    else:\n",
    "            return sum(sorted(rassal)[n//2-1:n//2+1])/2.0\n",
    "import statistics\n",
    "print(median(rassal1))\n",
    "print(median(rassal2))\n",
    "print(median(rassal3))\n",
    "print(statistics.median(rassal1))\n",
    "print(statistics.median(rassal2))\n",
    "print(statistics.median(rassal3))\n"
   ]
  },
  {
   "cell_type": "code",
   "execution_count": 4,
   "id": "southern-pendant",
   "metadata": {},
   "outputs": [
    {
     "name": "stdout",
     "output_type": "stream",
     "text": [
      "23\n",
      "18\n",
      "7\n"
     ]
    }
   ],
   "source": [
    "# Mod hesaplama\n",
    "print(statistics.mode(rassal1))\n",
    "print(statistics.mode(rassal2))\n",
    "print(statistics.mode(rassal3))"
   ]
  },
  {
   "cell_type": "code",
   "execution_count": 5,
   "id": "ahead-guinea",
   "metadata": {},
   "outputs": [
    {
     "name": "stdout",
     "output_type": "stream",
     "text": [
      "848.4\n",
      "848.4\n",
      "714.6275\n",
      "848.4\n",
      "790.2244000000001\n",
      "848.4\n"
     ]
    }
   ],
   "source": [
    "#Varyans Hesaplama\n",
    "print(rassal1.var())\n",
    "print(sum((rassal1 -np.mean(rassal1))**2) / (len(rassal1)))\n",
    "print(rassal2.var())\n",
    "print(sum((rassal1 -np.mean(rassal1))**2) / (len(rassal1)))\n",
    "print(rassal3.var())\n",
    "print(sum((rassal1 -np.mean(rassal1))**2) / (len(rassal1)))"
   ]
  },
  {
   "cell_type": "code",
   "execution_count": 6,
   "id": "disabled-uniform",
   "metadata": {},
   "outputs": [
    {
     "name": "stdout",
     "output_type": "stream",
     "text": [
      "29.127306775601483\n",
      "29.127306775601483\n",
      "26.732517651728948\n",
      "26.73251765172895\n",
      "28.110930258531113\n",
      "28.110930258531113\n"
     ]
    }
   ],
   "source": [
    "#Standard Sapma\n",
    "def standartSapma(vektor):\n",
    "    sd = 0.0 # standart sapma\n",
    "    veriAdedi = len(vektor)\n",
    "    if veriAdedi <= 1:\n",
    "        return 0.0\n",
    "    else:\n",
    "        for _ in vektor:\n",
    "            sd += (float(_) - np.mean(vektor)) ** 2\n",
    "        sd = (sd / float(veriAdedi)) ** 0.5\n",
    "        return sd\n",
    "print(standartSapma(rassal1))\n",
    "print(np.std(rassal1))\n",
    "print(standartSapma(rassal2))\n",
    "print(np.std(rassal2))\n",
    "print(standartSapma(rassal3))\n",
    "print(np.std(rassal3))"
   ]
  },
  {
   "cell_type": "code",
   "execution_count": 7,
   "id": "opponent-original",
   "metadata": {},
   "outputs": [
    {
     "name": "stdout",
     "output_type": "stream",
     "text": [
      "2.9127306775601483\n",
      "2.6732517651728953\n",
      "2.8110930258531113\n"
     ]
    }
   ],
   "source": [
    "#Standart Hata \n",
    "print(np.std(rassal1) / np.sqrt(len(rassal1)))\n",
    "print(np.std(rassal2) / np.sqrt(len(rassal2)))\n",
    "print(np.std(rassal3) / np.sqrt(len(rassal3)))"
   ]
  }
 ],
 "metadata": {
  "kernelspec": {
   "display_name": "Python 3",
   "language": "python",
   "name": "python3"
  },
  "language_info": {
   "codemirror_mode": {
    "name": "ipython",
    "version": 3
   },
   "file_extension": ".py",
   "mimetype": "text/x-python",
   "name": "python",
   "nbconvert_exporter": "python",
   "pygments_lexer": "ipython3",
   "version": "3.9.2"
  }
 },
 "nbformat": 4,
 "nbformat_minor": 5
}
