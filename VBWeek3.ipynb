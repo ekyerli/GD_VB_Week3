{
 "cells": [
  {
   "cell_type": "markdown",
   "id": "precise-philippines",
   "metadata": {},
   "source": [
    "# Veri bilimi için istatistik"
   ]
  },
  {
   "cell_type": "markdown",
   "id": "thorough-concentrate",
   "metadata": {},
   "source": [
    "# 1.1.Değişken ve Türleri\n",
    "Belli bir durumdan veya bir deneyden diğerine farklılık gösteren özelliklere değişken denilmektedir. Değişkenler farklı türlere sahiptir ve genel olarak şu şekilde bir ayrıma tabi tutulabilir:"
   ]
  },
  {
   "cell_type": "markdown",
   "id": "fresh-concentrate",
   "metadata": {},
   "source": [
    "# 1.1.1. Nicel ve Nitel Değişkenler\n",
    "Söz konusu değişken sayısal olarak ifade edilebiliyorsa, bu değişkene nicel değişken denilmektedir. Eğer söz konusu değişken sembollerle ifade ediliyorsa, bu değişkene nitel değişken denilmektedir."
   ]
  },
  {
   "cell_type": "markdown",
   "id": "outer-vaccine",
   "metadata": {},
   "source": [
    "# 1.1.2. Sürekli ve Süreksiz Değişkenler\n",
    "Sürekli değişken, herhangi iki değer arasında sonsuz sayıda değer alabilen değişkendir. Örneğin 0 ile 1 arasında yer alan rasyonel sayılar. Süreksiz değişken ise yine iki değer arasında sınırlı sayıda değer alabilen değişkenlerdir. Örneğin, 10 dakika boyunca bankadaki servis görevlisi tarafından işlemi gerçekleştirilen müşteri sayısı süreksiz değişkendir."
   ]
  },
  {
   "cell_type": "code",
   "execution_count": 1,
   "id": "sorted-context",
   "metadata": {},
   "outputs": [
    {
     "name": "stdout",
     "output_type": "stream",
     "text": [
      "0    a\n",
      "1    b\n",
      "2    c\n",
      "3    d\n",
      "dtype: category\n",
      "Categories (4, object): ['a', 'b', 'c', 'd']\n",
      "0    1\n",
      "1    3\n",
      "2    5\n",
      "3    7\n",
      "4    9\n",
      "dtype: int64\n"
     ]
    }
   ],
   "source": [
    "# import pandas as pd\n",
    "import numpy as np\n",
    "import pandas as pd\n",
    "## Nitel Değişken\n",
    "nitel = pd.Series(['a','b','c','d'], dtype=\"category\")\n",
    "print(nitel)\n",
    "\n",
    "## Nicel Değişken\n",
    "nicel=pd.Series([1,3,5,7,9])\n",
    "print(nicel)"
   ]
  },
  {
   "cell_type": "markdown",
   "id": "excess-floor",
   "metadata": {},
   "source": [
    "# 1.2. Merkezi Eğilim Ölçüleri\n",
    "Merkezi eğilim aracılığıyla popülasyon içerisinde bulunan bir değişkenin aldığı değerlerin toplandığı merkezi değer gösterilir. En temel merkezi eğilim ölçüleri ortalama (mean ya da average), medyan (median) ve mod (mode)'dur.\n",
    "\n",
    "Diğer taraftan, dağılım ölçüleri ise değişkenin sahip olduğu değerlerin birbirinden ne kadar farklı olduğunun bir ölçüsüdür. En sık kullanılan dağılım ölçüleri ise, varyans (variance), standart sapma (standard deviation) ve standart hatadır (standard error).\n",
    "\n",
    "Değişken ile yapılan her birim ölçüm bir veri noktasıdır (data point).\n"
   ]
  },
  {
   "cell_type": "code",
   "execution_count": 2,
   "id": "preceding-penetration",
   "metadata": {},
   "outputs": [
    {
     "name": "stdout",
     "output_type": "stream",
     "text": [
      "[61.88664116 66.92702481 60.66890811 91.61792992 72.81438976 66.93077922\n",
      " 79.88085866 63.82795283 73.55932593 61.25696218]\n",
      "(200,)\n"
     ]
    }
   ],
   "source": [
    "df = pd.DataFrame()\n",
    "\n",
    "# Daha önce oluşturulan boş veri çerçevesine veri tanımlayalım\n",
    "df['age'] = [28, 42, 27, 24, 35, 54, 35, 37]\n",
    "\n",
    "# Normal Dağılımdan rastgele sayı seçelim\n",
    "rassal=np.append(np.random.normal(69, 8, 100), np.random.normal(64, 5, 100))\n",
    "print(rassal[0:10])\n",
    "print(rassal.shape)"
   ]
  },
  {
   "cell_type": "markdown",
   "id": "respective-ivory",
   "metadata": {},
   "source": [
    "# 1.2.1. Ortalama\n",
    "Ortalama bir değişkenin tüm değerlerinin toplamının alınması ve sonrasında da gözlem sayısına bölünmesiyle bulunan sayıdır. Aynı zamanda değişkenin beklenen değeri olarak da tanımlanır."
   ]
  },
  {
   "cell_type": "code",
   "execution_count": 3,
   "id": "animal-union",
   "metadata": {},
   "outputs": [
    {
     "name": "stdout",
     "output_type": "stream",
     "text": [
      "35.25\n",
      "66.63639779167568\n"
     ]
    }
   ],
   "source": [
    "# Hazır (built-in) Python fonksiyonları kullanarak ortalama hesaplama\n",
    "sum(df['age']) / len(df['age'])\n",
    "\n",
    "sum(rassal)/len(rassal)\n",
    "\n",
    "print(np.mean(df['age']))\n",
    "print(np.mean(rassal))"
   ]
  },
  {
   "cell_type": "markdown",
   "id": "determined-steam",
   "metadata": {},
   "source": [
    "# 1.2.2. Medyan\n",
    "Medyan veriler küçükten büyüğe dizildiğinde ortadaki değerdir. Eğer tek sayıda değer varsa ortadaki değer medyandır, eğer çift sayıda değer varsa ortadaki iki değerin ortalamasıdır."
   ]
  },
  {
   "cell_type": "code",
   "execution_count": 4,
   "id": "signed-performer",
   "metadata": {},
   "outputs": [
    {
     "name": "stdout",
     "output_type": "stream",
     "text": [
      "35.0\n",
      "35.0\n"
     ]
    }
   ],
   "source": [
    "# Python'ın statistics modülünü yüklüyoruz\n",
    "import statistics\n",
    "\n",
    "print(statistics.median(df['age']))\n",
    "\n",
    "# veya numpy ile\n",
    "# numpy'ı yukarıda yüklemiştik\n",
    "print(np.median(df['age']))"
   ]
  },
  {
   "cell_type": "markdown",
   "id": "silent-bullet",
   "metadata": {},
   "source": [
    "# 1.2.3. Mod\n",
    "Mod değerler arasında en sık geçen değeri gösterir. Diğer bir değişle, mod analizi ile veride birden fazla kümelenme olup olmadığı tespit edilir. Eğer iki veya daha fazla değer aynı sayıda tekrar ederse çift mod oluşacaktır. Aşağıdaki kodu çift mod içeren bir veri ile çalıştırsaydınız hata alabilirdiniz. Aşağıdaki kod istisnalar oluşturmadan çift modlu verileri ele alabilecektir, fakat siz ilk modu alacaksınız."
   ]
  },
  {
   "cell_type": "code",
   "execution_count": 5,
   "id": "modified-traffic",
   "metadata": {},
   "outputs": [
    {
     "data": {
      "text/plain": [
       "35"
      ]
     },
     "execution_count": 5,
     "metadata": {},
     "output_type": "execute_result"
    }
   ],
   "source": [
    "statistics.mode(df['age'])"
   ]
  },
  {
   "cell_type": "code",
   "execution_count": 6,
   "id": "involved-eight",
   "metadata": {},
   "outputs": [
    {
     "name": "stdout",
     "output_type": "stream",
     "text": [
      "28 42 27 24 35 54 35 37\n"
     ]
    },
    {
     "data": {
      "text/plain": [
       "35"
      ]
     },
     "execution_count": 6,
     "metadata": {},
     "output_type": "execute_result"
    }
   ],
   "source": [
    "print(*df.age)\n",
    "\n",
    "# Veride setinde en çok tekrar  sayının bulunması\n",
    "(values, counts) = np.unique(df['age'], return_counts=True)\n",
    "\n",
    "# En fazla tekrara eden elemeanların listelenmesi \n",
    "ind = np.argmax(counts)\n",
    "\n",
    "# The most frequent element.\n",
    "values[ind]"
   ]
  },
  {
   "cell_type": "markdown",
   "id": "alike-attempt",
   "metadata": {},
   "source": [
    "Yanlılık (bias) hakkında bir not: Örneklemden hesaplanan ortalama, medyan ve mod popülasyon hakkında tarafsız (yanlı olmayan) bir tahmin olarak düşünülür. Bir tahmin tarafsız ise, örnek popülasyonu en iyi şekilde temsil eder. Taraflı bir gözlem ise popülasyon değerinin ya üstünde ya da altında bir değere yaklaşım gösterecektir. Yanlılık kısaca şu şekilde ifade edilebilir:\n",
    "\n",
    "Yanlılık= Örneklem Ortalaması-Popülasyon Ortalaması\n",
    "\n",
    "Tarafsız tahmin kullanışlıdır, daha büyük bir grup hakkında genelleme yapabilmek için küçük bir grup üzerinde gözlem yapabilmemizi sağlar. Bu derste gösterdiğimiz uygulamalar aslında örneklem üzerinde yapılmış çalışmalar. Örneklem ve popülasyon üzerinde bu bölümün son dersinde duracağımız için bu küçük notu kısa kesiyoruz."
   ]
  },
  {
   "cell_type": "markdown",
   "id": "enclosed-characterization",
   "metadata": {},
   "source": [
    "# 1.3. Dağılım Ölçüleri\n",
    "\n",
    "## 1.3.1. Varyans\n",
    "Merkezi eğilimi ölçmek önemli olsa da bir değişkeni anlamak için tek başına yeterli değildir. Bunun için dağılım ölçülerine de başvurmak gerekmektedir. Bir değişkeni anlamak için bakmamız gereken diğer bir önemli gösterge ise varyans'tır.\n",
    "\n",
    "Bir değişkenin varyansı, değerlerin merkezi eğilimden ne kadar farklılaştığını ve her bir değerin bir başkasından ne kadar farklılaştığını tanımlar. Bir değişkende tüm değerler merkezi eğilime yakınsa varyans çok küçük olacaktır. Eğer değerler merkezi eğilimden uzakta bulunuyorlarsa varyans çok yüksek olacaktır.\n",
    "\n",
    "Varyansı anlamanın bir diğer yolu ise şudur: Varyans, değişken içinde her bir veri noktası ne kadar değerlidir işte bunun hakkında bir ipucu verir. Eğer varyans düşükse birçok veri noktası merkezi eğilim ile benzerdir, bu nedenle her bir veri noktası ölçüm yapılan kavram hakkında çok az farklı bilgi verebilir. Eğer varyans yüksekse, her bir veri noktası ölçüm hakkında yeni ve farklı bilgiler sunabilecektir.\n",
    "\n",
    "Birçok insan ortalamayı bulup onun üzerinde çalışma yaparken, veri bilimciler genellikle varyans üzerinde çalışırlar. Çünkü veri bilimciler araştırma konusu değişkenin neden birbirinden farklı davrandığını anlamaya çalışırlar:\n",
    "\n",
    "Neden bu mağazanın kazanç marjı diğerlerinden çok yüksek?\n",
    "Neden bu ilacın yan etkileri diğer emsal ilaçlara göre çok daha az?\n",
    "Neden bazı müşteriler şirketin web sitesinde daha fazla zaman geçiriyorlar? gibi sorular aslında varyansla ilgilidir.\n",
    "Yüksek varyansa sahip bir değişken gözlemler hakkında farklılıkları ele verir, bu sayede veri bilimciler gelecek çıktıları anlamak için bunları kullanırlar.\n",
    "\n",
    "Varyansın hesaplanması ile ilgili iki gariplik var. Neden farkın karesi alınıyor ve neden n ‘e değilde (n-1)’e bölünüyor.\n",
    "\n",
    "İlk soruya cevap olarak, ortalamaya göre sadece farkları alınsaydı toplamı sıfır olurdu çünkü yarısı negatif, yarısı pozitif olacaktı. Karesini alarak negatif değerleri kullanışlı hale getiriyoruz. Tabi ki mutlak değeri alarak hesaplayabilirdik, bu sayede negatif değerleri kullanabilirdik. Karesini almanın başka matematiksel faydaları var bunu sonra tartışacağız. Neden \n",
    "n\n",
    "−\n",
    "1\n",
    " aldığımızın cevabı ise yanlılıkla (bias) alakalı olduğundan şimdilik tartışmasına girmiyoruz."
   ]
  },
  {
   "cell_type": "code",
   "execution_count": 7,
   "id": "exterior-specification",
   "metadata": {},
   "outputs": [
    {
     "name": "stdout",
     "output_type": "stream",
     "text": [
      "92.5\n",
      "92.5\n"
     ]
    }
   ],
   "source": [
    "# Bir verinin varyansını \n",
    "# NumPy ve Pandas ile  hesaplayabiliriz. \n",
    "print(np.var(df['age'], ddof=1))\n",
    "print(df['age'].var())\n"
   ]
  },
  {
   "cell_type": "markdown",
   "id": "veterinary-barrier",
   "metadata": {},
   "source": [
    "# 1.3.2. Standart Sapma\n",
    "Değişkenliği ölçmekte en çok kullanılan göstergelerden birisi varyansın karekökünün alınmasıdır, buna standart sapma adını veririz. Varyansın karekökünün alınmasının matematiksel bazı faydaları var fakat bunu ileriki derslerde merkezi limit teoremini anlatırken daha ayrıntılı göreceğiz.\n",
    "\n",
    "Numpy bize std() fonksiyonu ile standart sapmayı verir. Popülasyonun standart sapmasını hesaplarken Numpy’ın aldatıcı bir nüansı vardır. N-1 ile bölmek yerine n ile böler. Popülasyonun standart sapmasını hesaplamak için manuel olarak ddof (degrees of freedom-serbestlik derecesi) parametresine ihtiyaç duyarız:"
   ]
  },
  {
   "cell_type": "code",
   "execution_count": 8,
   "id": "reflected-canadian",
   "metadata": {},
   "outputs": [
    {
     "data": {
      "text/plain": [
       "9.617692030835672"
      ]
     },
     "execution_count": 8,
     "metadata": {},
     "output_type": "execute_result"
    }
   ],
   "source": [
    "np.std(df['age'], ddof=1)"
   ]
  },
  {
   "cell_type": "code",
   "execution_count": 9,
   "id": "sharp-tobago",
   "metadata": {},
   "outputs": [
    {
     "data": {
      "text/plain": [
       "9.617692030835672"
      ]
     },
     "execution_count": 9,
     "metadata": {},
     "output_type": "execute_result"
    }
   ],
   "source": [
    "df['age'].std()"
   ]
  },
  {
   "cell_type": "markdown",
   "id": "incredible-softball",
   "metadata": {},
   "source": [
    "# 1.3.3. Standart Hata\n",
    "Verideki değişkenliğin tespitinde sıklıkla kullanılan diğer bir gösterge ise standart hatadır. Standart hata örneklem ortalamasının belirsizliğinin bir ölçüsüdür. Standart sapma bize varyans hakkında bilgi verirken, standart hata bize ortalama hakkında bilgi verir.\n",
    "\n",
    "Anket sonuçları standart hata kullanımı için güzel bir örnektir. Genellikle hata marjı olarak bilinir. Örneğin bir anket sonucu %44 ‘ün X ‘i desteklediğini söyler ve %3 standart hata olabileceğini söyler. Diğer bir deyişle seçim bittiğinde sonuçlar %41 ile %47 arasında olabilir demektir. Standart hata ne kadar küçük olursa ortalamanın bize daha kesin ölçüldüğünü anlatır.\n",
    "\n"
   ]
  },
  {
   "cell_type": "code",
   "execution_count": 10,
   "id": "exempt-toilet",
   "metadata": {},
   "outputs": [
    {
     "data": {
      "text/plain": [
       "3.4003676271838605"
      ]
     },
     "execution_count": 10,
     "metadata": {},
     "output_type": "execute_result"
    }
   ],
   "source": [
    "df['age'].std() / np.sqrt(len(df['age']))"
   ]
  },
  {
   "cell_type": "code",
   "execution_count": 11,
   "id": "heard-revolution",
   "metadata": {},
   "outputs": [
    {
     "data": {
      "text/plain": [
       "3.4003676271838605"
      ]
     },
     "execution_count": 11,
     "metadata": {},
     "output_type": "execute_result"
    }
   ],
   "source": [
    "from scipy import stats\n",
    "stats.sem(df['age']) # stats kütüphanesi ile hesaplama"
   ]
  },
  {
   "cell_type": "code",
   "execution_count": 12,
   "id": "compound-death",
   "metadata": {},
   "outputs": [
    {
     "data": {
      "image/png": "[encoded data removed]",
      "text/plain": [
       "<Figure size 432x288 with 2 Axes>"
      ]
     },
     "metadata": {
      "needs_background": "light"
     },
     "output_type": "display_data"
    },
    {
     "name": "stdout",
     "output_type": "stream",
     "text": [
      "low_var      94.999178\n",
      "high_var    447.025921\n",
      "dtype: float64\n",
      "low_var      16.379086\n",
      "high_var   -303.352247\n",
      "dtype: float64\n"
     ]
    }
   ],
   "source": [
    "import matplotlib.pyplot as plt\n",
    "\n",
    "# Veri Çerçevesi\n",
    "pop=pd.DataFrame()\n",
    "\n",
    "# Ortalaması 60, standart sapması 10 ve 100 olan iki değişkenin oluşturulması\n",
    "pop['low_var']=np.random.normal(60, 10, 10000)\n",
    "pop['high_var']=np.random.normal(60, 100, 10000)\n",
    "\n",
    "# İki değiken için ayrı ayrı histogram oluşturulması\n",
    "pop.hist(layout=(2, 1), sharex=True)\n",
    "plt.show()\n",
    "\n",
    "# her değişkenin minimum ve maksimum değerlerinin bulunması\n",
    "print(pop.max())\n",
    "print(pop.min())"
   ]
  },
  {
   "cell_type": "markdown",
   "id": "martial-barbados",
   "metadata": {},
   "source": [
    "Yüksek varyansa sahip değişkeni daha düşük varyanslı değişkenle kıyaslayalım. Görüldüğü gibi, yüksek varyansa sahip popülasyon daha yayılmış bir görünüm sergilemektedir. Bu durum, bu popülasyonun sağ ve sol kuyruklarda daha fazla değer aldığını göstermektedir. Eğer bu değişkenler bizim çalışmak istediğimiz iki popülasyonun değeri olsaydı, her birinden örneklem alacaktık, bu örneklem üzerinden genelleme yapacaktık. Şimdi bunu deneyelim:"
   ]
  },
  {
   "cell_type": "code",
   "execution_count": 13,
   "id": "great-cleaning",
   "metadata": {},
   "outputs": [
    {
     "name": "stderr",
     "output_type": "stream",
     "text": [
      "C:\\Users\\Emir\\AppData\\Local\\Packages\\PythonSoftwareFoundation.Python.3.9_qbz5n2kfra8p0\\LocalCache\\local-packages\\Python39\\site-packages\\pandas\\plotting\\_matplotlib\\tools.py:400: MatplotlibDeprecationWarning: \n",
      "The is_first_col function was deprecated in Matplotlib 3.4 and will be removed two minor releases later. Use ax.get_subplotspec().is_first_col() instead.\n",
      "  if ax.is_first_col():\n"
     ]
    },
    {
     "data": {
      "image/png": "[encoded data removed]",
      "text/plain": [
       "<Figure size 432x288 with 2 Axes>"
      ]
     },
     "metadata": {
      "needs_background": "light"
     },
     "output_type": "display_data"
    },
    {
     "name": "stdout",
     "output_type": "stream",
     "text": [
      "low_var     59.587064\n",
      "high_var    72.267852\n",
      "dtype: float64\n",
      "low_var     10.090655\n",
      "high_var    85.532817\n",
      "dtype: float64\n"
     ]
    }
   ],
   "source": [
    "# Her bir değişkenden 100 gözleme sahip rassal bir örneklem seçelim ve bunu saklayalım\n",
    "sample=pd.DataFrame()\n",
    "sample['low_var'] = np.random.choice(pop['low_var'], 100)\n",
    "sample['high_var']=np.random.choice(pop['high_var'], 100)\n",
    "\n",
    "# Görselleştirelim\n",
    "sample.hist()\n",
    "plt.show()\n",
    "\n",
    "# Örneklemin popülasyonu nasıl temsil ettiğini kontrol edelim\n",
    "print(sample.mean())\n",
    "print(sample.std(ddof=1))"
   ]
  },
  {
   "cell_type": "markdown",
   "id": "boxed-hostel",
   "metadata": {},
   "source": [
    "Örneklem popülasyondan rastgele seçildiği için, kodu her seferinde tekrar çalıştırabilir ve yeni örneklem üzerinde deneyebilirsiniz. Birkaç kere denemenizi tavsiye ederiz. Düşük değişkenliğe sahip örneklemin popülasyon ortalamasına ve standart sapmasına, yüksek değişkenliğe sahip örneklemden daha yakın olduğunu göreceksiniz.\n",
    "\n",
    "Popülasyondan her örneklem seçildiğinde, dağılımın en uç noktalarından değerler (outlier) çekme ihtimalimiz var. En uç noktalardan değer almak örneklemin ortalamasını popülasyon ortalamasından uzaklaştırabilir. Bu yüzden yüksek değişkenlikli değişkenlerin düşüklere göre ortalamadan uzaklaşma potansiyelleri daha fazladır. Bu sorunu mümkün olduğunca örneklem sayısını artırarak giderebiliriz"
   ]
  },
  {
   "cell_type": "markdown",
   "id": "dietary-respondent",
   "metadata": {},
   "source": [
    "# İçerik - Temel İstatistik Kavramları"
   ]
  },
  {
   "cell_type": "code",
   "execution_count": 14,
   "id": "pressing-huntington",
   "metadata": {},
   "outputs": [],
   "source": [
    "#numpy kütüphanesini kullanarak üreteceğiniz 3 farklı veri aracılığı ile merkezi eğilim ve dağılım ölçümlerini hem yukarıda verilen matematiksel formülle hem de python'da hazır bulunan (built-in) kodlar aracılığıyla analiz edin!!!\n",
    "import numpy as np\n",
    "rassal1 = np. random.randint(100, size=100)\n",
    "rassal2 = np. random.randint(100, size=100)\n",
    "rassal3 = np. random.randint(100, size=100)"
   ]
  },
  {
   "cell_type": "code",
   "execution_count": 15,
   "id": "dimensional-rider",
   "metadata": {},
   "outputs": [
    {
     "name": "stdout",
     "output_type": "stream",
     "text": [
      "44.24\n",
      "44.24\n",
      "48.61\n",
      "48.61\n",
      "51.81\n",
      "51.81\n"
     ]
    }
   ],
   "source": [
    "#ortalama\n",
    "print(sum(rassal1) / len(rassal1))\n",
    "print(np.mean(rassal1))\n",
    "print(sum(rassal2) / len(rassal2))\n",
    "print(np.mean(rassal2))\n",
    "print(sum(rassal3) / len(rassal3))\n",
    "print(np.mean(rassal3))"
   ]
  },
  {
   "cell_type": "code",
   "execution_count": 16,
   "id": "equipped-portfolio",
   "metadata": {},
   "outputs": [
    {
     "name": "stdout",
     "output_type": "stream",
     "text": [
      "38.0\n",
      "45.0\n",
      "56.5\n",
      "38.0\n",
      "45.0\n",
      "56.5\n"
     ]
    }
   ],
   "source": [
    "#Median \n",
    "def median(rassal):\n",
    "    n = len(rassal)\n",
    "    if n < 1:\n",
    "            return None\n",
    "    if n % 2 == 1:\n",
    "            return sorted(rassal)[n//2]\n",
    "    else:\n",
    "            return sum(sorted(rassal)[n//2-1:n//2+1])/2.0\n",
    "import statistics\n",
    "print(median(rassal1))\n",
    "print(median(rassal2))\n",
    "print(median(rassal3))\n",
    "print(statistics.median(rassal1))\n",
    "print(statistics.median(rassal2))\n",
    "print(statistics.median(rassal3))\n"
   ]
  },
  {
   "cell_type": "code",
   "execution_count": 17,
   "id": "looking-first",
   "metadata": {},
   "outputs": [
    {
     "name": "stdout",
     "output_type": "stream",
     "text": [
      "48\n",
      "37\n",
      "73\n"
     ]
    }
   ],
   "source": [
    "# Mod hesaplama\n",
    "print(statistics.mode(rassal1))\n",
    "print(statistics.mode(rassal2))\n",
    "print(statistics.mode(rassal3))"
   ]
  },
  {
   "cell_type": "code",
   "execution_count": 18,
   "id": "liable-gasoline",
   "metadata": {},
   "outputs": [
    {
     "name": "stdout",
     "output_type": "stream",
     "text": [
      "795.5624000000003\n",
      "795.5624000000003\n",
      "918.0579000000002\n",
      "795.5624000000003\n",
      "949.6538999999998\n",
      "795.5624000000003\n"
     ]
    }
   ],
   "source": [
    "#Varyans Hesaplama\n",
    "print(rassal1.var())\n",
    "print(sum((rassal1 -np.mean(rassal1))**2) / (len(rassal1)))\n",
    "print(rassal2.var())\n",
    "print(sum((rassal1 -np.mean(rassal1))**2) / (len(rassal1)))\n",
    "print(rassal3.var())\n",
    "print(sum((rassal1 -np.mean(rassal1))**2) / (len(rassal1)))"
   ]
  },
  {
   "cell_type": "code",
   "execution_count": 19,
   "id": "norman-bathroom",
   "metadata": {},
   "outputs": [
    {
     "name": "stdout",
     "output_type": "stream",
     "text": [
      "28.20571573280849\n",
      "28.20571573280849\n",
      "30.299470292399505\n",
      "30.299470292399505\n",
      "30.816455020005137\n",
      "30.816455020005137\n"
     ]
    }
   ],
   "source": [
    "#Standard Sapma\n",
    "def standartSapma(vektor):\n",
    "    sd = 0.0 # standart sapma\n",
    "    veriAdedi = len(vektor)\n",
    "    if veriAdedi <= 1:\n",
    "        return 0.0\n",
    "    else:\n",
    "        for _ in vektor:\n",
    "            sd += (float(_) - np.mean(vektor)) ** 2\n",
    "        sd = (sd / float(veriAdedi)) ** 0.5\n",
    "        return sd\n",
    "print(standartSapma(rassal1))\n",
    "print(np.std(rassal1))\n",
    "print(standartSapma(rassal2))\n",
    "print(np.std(rassal2))\n",
    "print(standartSapma(rassal3))\n",
    "print(np.std(rassal3))"
   ]
  },
  {
   "cell_type": "code",
   "execution_count": 20,
   "id": "closing-covering",
   "metadata": {},
   "outputs": [
    {
     "name": "stdout",
     "output_type": "stream",
     "text": [
      "2.8205715732808487\n",
      "3.0299470292399504\n",
      "3.0816455020005136\n"
     ]
    }
   ],
   "source": [
    "#Standart Hata \n",
    "print(np.std(rassal1) / np.sqrt(len(rassal1)))\n",
    "print(np.std(rassal2) / np.sqrt(len(rassal2)))\n",
    "print(np.std(rassal3) / np.sqrt(len(rassal3)))"
   ]
  },
  {
   "cell_type": "markdown",
   "id": "accurate-damages",
   "metadata": {},
   "source": [
    "# İçerik - Olasılık\n"
   ]
  },
  {
   "cell_type": "markdown",
   "id": "national-oxide",
   "metadata": {},
   "source": [
    "## Olasılığa İlişkin Yaklaşımlar\n",
    "Frekansçı yaklaşım,\n",
    "Bayesci yaklaşım\n",
    "## Olasılığa İlişkin Bazı Kavramlar\n",
    "Rastgelelik,\n",
    "Seçim Yanlılığı,\n",
    "Bağımsızlık,\n",
    "Birleşik Olasılık,\n",
    "Marjinal Olasılık,\n",
    "Koşullu Olasılık,\n",
    "\n",
    "Olasılık, gelecek bir sonucu nicel olarak ifade etmenin bir aracıdır. İnsanlar günlük hayatlarında karar alırken olasılığı yoğun olarak kullanırlar."
   ]
  },
  {
   "cell_type": "markdown",
   "id": "incredible-beach",
   "metadata": {},
   "source": [
    "# 1. Olasılığa ilişkin yaklaşımlar\n",
    "## 1.1. Frekansçı yaklaşım\n",
    "Bu yaklaşıma göre olasılık, bir deney tekrar tekrar yapılırsa bir çıktının kaç kere meydana geleceğini sayılarak buluruz. Örneğin, bir yazı tura oyununda paranın yazı ya da tura gelmesi, yazı tura atmanın defalarca tekrarlanması sonucunda bulunur. Olasılık bilimi açısından bakıldığında bu yaklaşım geleneksel olarak nitelendirilebiliriz. Çünkü, bayesci yaklaşım, modern uygulamaların temelini oluşturmakta ve özellikle yoğun hesaplamaların söz konusu olduğu günümüz uygulamalarına farklı bir yaklaşım getirmektedir.\n",
    "\n",
    "## 1.2. Bayesci yaklaşım\n",
    "Bu yaklaşıma göre olasılık, bir gözlemcinin geçmiş tecrübeleri ve bilgisine dayanarak bir olayın meydana gelme ihtimalidir (likelihood). Buna göre, olay her vuku bulduğunda gözlemci de olayın olasılığını gözlemine göre günceller. Olay meydana gelmeden önce gözlemcinin beklediği olasılığa öncül olasılık (prior probability), olay meydana geldikten sonra hesapladığı olasılığa ise artçıl olasılık (posterior probability) denilir."
   ]
  },
  {
   "cell_type": "raw",
   "id": "excellent-trainer",
   "metadata": {},
   "source": [
    "Burada, P(A|B) terimi A olayının B olayının gerçekleşme olasılığına göre olasılığını ifade eder.\n",
    "\n",
    "P(A) öncül olasılığı\n",
    "P(A|B) artçıl olasılığı\n",
    "P(B|A) olasılığı B gerçekleştiğinde A'nın durumu hakkında bilgiyi\n",
    "P(B) bütün olasılıkların göz önüne alındığı durumu"
   ]
  },
  {
   "cell_type": "markdown",
   "id": "municipal-nylon",
   "metadata": {},
   "source": [
    "# 2. Olasılığa ilişkin bazı kavramlar\n",
    "## 2.1. Rastgelelik\n",
    "Olasılık kavramı veri bilimi için son derece temeldir. Veri bilimcinin çıkaracağı bilgiler, çoğu zaman bilinmezi ölçebilme kabiliyetine bağlıdır. Yani \"yarın yağmur yağabilir\" demektense \"yarın yağmur yağma olasılığı %65'tir\" demek arasında veri bilimi açısından ciddi bir fark bulunur. Üstelik, yağmur yağma olasılığı hakkında bir rakam verirken bu rakamdan ne kadar emin olduğumuz da önemlidir.\n",
    "\n",
    "Olasılık, rastgelelik dediğimiz kavram açısından da son derece önemlidir. Yazı tura deneyinde olduğu gibi rastgelelik dediğimiz şey, tüm olası çıktıların eşit olasılıkla meydana geldiği durumları ifade eder. Dolayısıyla rastgelelik, bir veri bilimcinin çalışma alanına girer.\n",
    "\n",
    "Şu gerçeği iyi anlamak gerekir: Üzerinde çalışacağımız verilerin birçoğu popülasyon değil, popülasyondan alınmış örneklemdir. Örneğin, Türkiye'deki tüm kanser hastalarının verisine ulaşmamız mümkün olmayabilir. Fakat, bir hastane verisine erişim sağlamış olabilirsiniz. Dolayısıyla, analizlerinize konu olacak verilerin birçoğu örneklem mahiyetinde olacaktır. Önemli olan, elinizdeki örneklemin gerçek popülasyonu iyi temsil edip etmediğidir.\n",
    "\n",
    "## 2.2. Seçim Yanlılığı\n",
    "Örnekleminiz ve gerçek popülasyon arasındaki sistematik farklılıklara seçim yanlılığı (selection bias) denir. Yani örneklemdeki bireyler popülasyonun genelinden farklılık sergilerlerse, örneğin: maddi durumu daha iyi, daha genç, eğitim düzeyi yüksek vs., örneklemde seçim yanlılığı var demektir ve bu örneklem üzerinde yapacağınız analizleri popülasyona genelleyemezsiniz.\n",
    "\n",
    "Bir başka örnek ise, kumarı ilk kez oynadıkları zaman şanslı olan insanların (beginner's luck) bunu hayatlarının geri kalanı için şanslı olacaklarına dair bir işaret olduğuna inanma eğiliminde olmalarıdır. Bu tür insanların kumar oynamaya bağımlı hale gelme ihtimalinin daha yüksek olduğuna inanılmaktadır.\n",
    "\n",
    "## 2.3. Bağımsızlık\n",
    "Olasılık teorisinde, eğer iki olay birbirinden bağımsız olarak meydana geliyorlarsa bunlara bağımsız olaylar deriz. Yani bir olayın sonucu diğer bir olayı hiçbir şekilde etkilemiyorsa bu olaylar bağımsızdır. Örneğin, bir yazı tura oyununda parayı ilk attığınızda gelen değer bir sonraki atışınızda gelecek değeri etkilemez. Dolayısıyla, bu iki olay birbirinden bağımsız olaylardır.\n",
    "\n",
    "Başka bir örnek olarak, bir torbada 5 kırmızı ve 5 mavi olarak 10 top olduğunu düşünelim. İlk seferde torbadan bir top seçiyor ve rengine bakıyoruz. Daha sonra, çektiğimiz topu tekrar torbaya atıyoruz. A ve B'nin iki farklı olay olduğunu kabul edelim. Eğer A'nın meydana gelmesi B'den bağımsız ise (veya tam tersi) bu durumda A, B'den bağımsızdır denilebilir. Dolayısıyla iki olay birbirinden bağımsız ise aşağıdaki koşulu sağlamalıdır:\n",
    "\n",
    "## 2.4. Birleşik olasılık\n",
    "Eğer iki olay birbirinden bağımsız değilse, birleşik (joint) olasılıktan bahsedilir. Birleşik olasılık iki veya daha çok olasılığın kesişimini ifade etmektedir\n",
    "\n",
    "## 2.5. Marjinal olasılık\n",
    "A bir olaylar kümesi olsun ve varsayımsal olarak A olayı, B olayından bağımsız olmasın. Bu durumda B olayının gerçekleşme olasılığı temel alınarak A'nın gerçekleşme olasılığına marjinal olasılık denilmektedir.\n",
    "\n",
    "## 2.6. Koşullu olasılık\n",
    "A olayının gerçekleşmesi B'nin gerçeklemesini etkilemekte veya tam tersi olarak B olayının gerçekleşmesi, A'nın gerçekleşmesini etkilemekte ise, bu durumda koşullu olasılıktan bahsedilebilir. Daha önce Bayes Teorisinde gördüğümüz formül ile ifade edilen koşullu olasılık B olayı gerçekleştiğinde A'nın gerçekleşme olasılığı olarak özetlenebilir."
   ]
  },
  {
   "cell_type": "markdown",
   "id": "young-citation",
   "metadata": {},
   "source": [
    "A şirketinin sattığı bilgisayarın bazılarının bozuk olduğu tespit edilmiştir. Bilgisyar üreten 3 şirket (A, B ve C) olduğunu varsayımı altında, bu şirketlerin bilgisayar üretim miktarı ve bozuk üretim olasılıkları şu şekildedir:\n",
    "\n",
    "Toplam Üretim Yüzdesi :\n",
    "\n",
    "P(A)=0.40\n",
    "\n",
    "P(B)=0.40\n",
    "\n",
    "P(C)=0.20\n",
    "\n",
    "Hatalı Üretim Olasılığı : \n",
    "\n",
    "P(D|A)=0.015\n",
    "\n",
    "P(D|B)=0.020\n",
    "\n",
    "P(D|C)=0.010\n",
    "\n",
    "Rastgele seçilen bir bozuk bir bilgisayarın B şirketi tarafından üretilme olasılığı nedir?"
   ]
  },
  {
   "cell_type": "code",
   "execution_count": 21,
   "id": "senior-archive",
   "metadata": {},
   "outputs": [
    {
     "name": "stdout",
     "output_type": "stream",
     "text": [
      "0.5\n"
     ]
    }
   ],
   "source": [
    "#P(B|D)=(P(D|B) * P(B))/P(D)=a*b\\c\n",
    "a=0.40\n",
    "b=0.02\n",
    "c=((0.4*0.015+0.4*0.02+0.2*0.01)/1)\n",
    "print(a*b/c)"
   ]
  },
  {
   "cell_type": "markdown",
   "id": "precious-narrow",
   "metadata": {},
   "source": [
    "# İçerik - İstatistiksel Dağılımlar\n"
   ]
  },
  {
   "cell_type": "markdown",
   "id": "palestinian-increase",
   "metadata": {},
   "source": [
    "Bir veri bilimci olarak verilerin yapısını incelemek ve bu veriler aracılığıyla tahminde bulunmak için istatistiksel çıkarımları kullanacaksınız. Bu istatistiksel çıkarımları yapabilmek için ise verilerin olasılık dağılımlarını bilmek gerekmektedir. Bir değişkenin dağılımı denilince, verinin alabileceği tüm değerleri ve ne kadar sıklıkla meydana geldiklerini gösteren bir liste, fonksiyon ya da grafik aklımıza gelecektir. Bu bölümde, veri bilimcilerin sıklıkla kullandığı ve veri bilimi uygulamaları için büyük öneme sahip olan bazı dağılımları göreceğiz.\n",
    "\n",
    "Bir dağılım ile tanımlanması gereken bir veri kümesi üzerinde çalışmaya başladığımızda, elimizdeki ham veriye şu 4 temel soruyu sormalıyız:\n",
    "\n",
    "Veri kümesi kategorik verilerden mi yoksa sürekli verilerden mi oluşmaktadır?\n",
    "Veriler simetrik mi dağılmıştır? Başka bir deyişle, ortalamının solundaki ve sağındaki değerler eşit veya eşite yakın mıdır?\n",
    "Verilerin alabileceği değerlerin üst ya da alt sınırları var mıdır? Örneğin, işsizlik verisinin sıfır değerinin altında bir değer alamayacağı gibi.\n",
    "Verinin dağılımına bakıldığında aşırı değerler (outliers) gözlemleniyor mu?\n",
    "Bu soruların cevapları veri kümesinin hangi dağılıma benzediğine dair ipuçları vermektedir. Dolayısıyla veriyi analiz etmeye başlamadan önce veriyi çok iyi tanımalıyız.\n",
    "\n",
    "İşte olasılık dağılımlarını bilmemiz bize burada çok fayda sağlayacaktır.\n",
    "\n",
    "Bu derste istatistiksel analizlerde sıklıkla kullanılan aşağıdaki dağılımları tanıyacağız:\n",
    "\n",
    "Normal (Gaussian) Dağılım,\n",
    "Bernoulli Dağılımı,\n",
    "Binom Dağılımı,\n",
    "Tekdüze (Uniform) Dağılım.\n"
   ]
  },
  {
   "cell_type": "markdown",
   "id": "promotional-thumb",
   "metadata": {},
   "source": [
    "# 1.1. Normal Dağılım\n",
    "Normal dağılımın istatistikte önemli bir yeri vardır ve en çok kullanılan dağılımdır. Alman matematikçi Carl Friedrich Gauss tarafından bulunduğundan dolayı Gaussian dağılım olarak da adlandırılır. Günlük yaşamda karşılaştığımız bir çok olguyu tanımlamaktadır. Basitçe ifade etmek gerekirse, dağılımda yer alan çoğu değer merkezde kümeleniyorsa ve geri kalanı da simetrik olarak merkezin sağında ve solunda ise \"normal\" veya \"normal olarak dağılmış\" olarak tanımlanır.\n",
    "Normal dağılım iki parametre ile tanımlanır: Ortalama (μ) ve standart sapma (σ). Diğer bir değişle, ortalama ve standart sapma ile normal dağılım tanımlanabilir. "
   ]
  },
  {
   "cell_type": "code",
   "execution_count": 22,
   "id": "thermal-morocco",
   "metadata": {},
   "outputs": [
    {
     "data": {
      "image/png": "[encoded data removed]",
      "text/plain": [
       "<Figure size 432x288 with 1 Axes>"
      ]
     },
     "metadata": {},
     "output_type": "display_data"
    }
   ],
   "source": [
    "import numpy as np\n",
    "import matplotlib.pyplot as plt\n",
    "import math\n",
    "from scipy.stats import norm\n",
    "import seaborn as sns\n",
    "sns.set()\n",
    "\n",
    "mu=0\n",
    "sigma = 7\n",
    "x = np.linspace(-30, 30, 100)\n",
    "y = norm.pdf(x, mu, sigma)\n",
    "plt.plot(x,y)\n",
    "plt.show()"
   ]
  },
  {
   "cell_type": "markdown",
   "id": "digital-trout",
   "metadata": {},
   "source": [
    "Yukarıdaki şekilde görüldüğü gibi, dağılımın ortalaması olan 0.5 civarında simetrik bir dağılım söz konusudur.\n",
    "\n",
    "Normal dağılım veri bilimcileri için çok önemlidir. Çünkü:\n",
    "\n",
    "Sadece iki istatistiksel parametre (ortalama (μ) ve standart sapma(σ)) kullanılarak kolayca özetlenebilir.\n",
    "Eğri altındaki alan 1'dir, bu da dağılımın içindeki birbirinden ayrı sonuçların olasılığını hesaplamayı kolaylaştırır.\n",
    "Psikoloji, finans gibi birçok alanda veriler normale yakın dağılmaktadır.\n",
    "Genel olarak, pek çok küçük etkinin sonucunu ölçen herhangi bir değişken tek başına ve bağımsız olarak normal dağılıma yakın olacaktır.\n",
    "Yaygın göstergelerin birçoğu (z-skor) ve istatistiksel testler (t-testleri, ANOVA'lar, çan eğrisi) verinin normal dağılımı varsayımı üzerine kurulmuştur. Dolayısıyla, normal dağılımın kullanımı kolaydır ve bu nedenle yaygın olarak kullanılır.\n",
    "μ =1 ve σ=0 olan normal dağılıma, standart normal dağılım denilmektedir."
   ]
  },
  {
   "cell_type": "markdown",
   "id": "aquatic-possible",
   "metadata": {},
   "source": [
    "----------------------------------------------------------------------------------------------------------------------------"
   ]
  },
  {
   "cell_type": "markdown",
   "id": "touched-period",
   "metadata": {},
   "source": [
    "İki normal dağılıma sahip rassal sayı üretim. Bu rassal sayılardan birisinden 1000 tane 10.000 tane elde edelim. Bu iki rassal sayının da olasılık yoğunluk grafiğini çizelim. Sizce Merkezi Limit Theoremi bu olayda geçerli midir?"
   ]
  },
  {
   "cell_type": "code",
   "execution_count": 23,
   "id": "billion-queen",
   "metadata": {},
   "outputs": [],
   "source": [
    "import numpy as np\n",
    "import matplotlib.pyplot as plt\n",
    "import seaborn as sns\n",
    "from scipy import stats\n",
    "import warnings\n",
    "warnings.filterwarnings(\"ignore\")\n",
    "\n",
    "mu, sigma, n = 10, 0.5, 1000\n",
    "birinci_rassal_sayi = np.random.normal(mu, sigma, n)\n",
    "\n",
    "mu, sigma, n = 10, 0.5, 10000\n",
    "ikinci_rassal_sayi = np.random.normal(mu, sigma, n)\n",
    "\n"
   ]
  },
  {
   "cell_type": "code",
   "execution_count": 25,
   "id": "swiss-reverse",
   "metadata": {},
   "outputs": [
    {
     "data": {
      "image/png": "[encoded data removed]",
      "text/plain": [
       "<Figure size 1080x360 with 2 Axes>"
      ]
     },
     "metadata": {},
     "output_type": "display_data"
    }
   ],
   "source": [
    "plt.figure(figsize=(15,5))\n",
    "plt.subplot(121)\n",
    "count, bins, ignore = plt.hist(birinci_rassal_sayi, 50, density=True)\n",
    "plt.subplot(122)\n",
    "count, bins, ignore = plt.hist(ikinci_rassal_sayi, 50, density=True)\n",
    "plt.show()"
   ]
  },
  {
   "cell_type": "code",
   "execution_count": 26,
   "id": "arctic-gender",
   "metadata": {},
   "outputs": [
    {
     "data": {
      "image/png": "[encoded data removed]",
      "text/plain": [
       "<Figure size 1080x360 with 2 Axes>"
      ]
     },
     "metadata": {},
     "output_type": "display_data"
    }
   ],
   "source": [
    "plt.figure(figsize=(15,5))\n",
    "plt.subplot(121)\n",
    "res = stats.probplot(birinci_rassal_sayi, plot=plt)\n",
    "plt.subplot(122)\n",
    "res = stats.probplot(ikinci_rassal_sayi, plot=plt)\n",
    "plt.show()"
   ]
  },
  {
   "cell_type": "markdown",
   "id": "alien-illinois",
   "metadata": {},
   "source": [
    "Yukarıda görüldüğü üzere merkezi limit teoremi geçerlidir, fakat örneklemimizi ne kadar yüksek tutarsak sonucu olan etkisi bir o kadar artmaktadır."
   ]
  },
  {
   "cell_type": "markdown",
   "id": "assumed-monitor",
   "metadata": {},
   "source": [
    "İki madeni paramızın olduğunu varsayalım. Bunlardan bir tanesi adil (yani, yeteri kadar deneme yapıldığında yazı veya tura 1/2 olasılığına yaklaşmakta) diğeri ile ise 3/4 olasılığında tura elde edilmektedir.Herhangi biri seçilip, n kere deneme yapıldığında,Sn tura sayısı olursa, Büyük Sayılar Yasası uzun vadede gelecek tura sayısını tahmin etmemize izin verir mi? Çok sayıda deneme yapıldığında, hangi paranın seçildiğini bilebilir miyiz? Kaç deneme bizi %95 oranında emin kılar?"
   ]
  },
  {
   "cell_type": "code",
   "execution_count": 27,
   "id": "representative-tours",
   "metadata": {},
   "outputs": [],
   "source": [
    "def orneklem_plotla(örneklem_ortalaması,orneklem_sayisi, subplot_no):\n",
    "    baslik_font = {'family': 'arial', 'color': 'darkred','weight': 'bold','size': 13 }\n",
    "    eksen_font  = {'family': 'arial', 'color': 'darkblue','weight': 'bold','size': 10 }\n",
    "    plt.subplot(subplot_no)\n",
    "    plt.plot(örneklem_ortalaması[0:orneklem_sayisi])\n",
    "    plt.ylim((0,1.2))\n",
    "    plt.title(\"Örneklem Sayısı = {}\".format(orneklem_sayisi), fontdict = baslik_font)\n",
    "    plt.xlabel(\"Para Adedi\", fontdict = eksen_font)\n",
    "    plt.ylabel(\"Tura Gelme Olasılığı\", fontdict = eksen_font)\n",
    "    return plt"
   ]
  },
  {
   "cell_type": "code",
   "execution_count": 28,
   "id": "hawaiian-impact",
   "metadata": {},
   "outputs": [
    {
     "name": "stdout",
     "output_type": "stream",
     "text": [
      "Adil para :  0.47\n",
      "Yanlı para :  0.78\n"
     ]
    }
   ],
   "source": [
    "adil_para = np.random.binomial(1,0.5, 100)\n",
    "yanli_para = np.random.binomial(1,0.75, 100)\n",
    "print(\"Adil para : \", sum(adil_para)/len(adil_para))\n",
    "print(\"Yanlı para : \", sum(yanli_para)/len(yanli_para))"
   ]
  },
  {
   "cell_type": "code",
   "execution_count": 29,
   "id": "continuing-voltage",
   "metadata": {},
   "outputs": [
    {
     "name": "stdout",
     "output_type": "stream",
     "text": [
      "7 para ile tura gelme olasığı 0.96 yani %95 den fazla oluyor \n"
     ]
    }
   ],
   "source": [
    "örneklem1 = []\n",
    "örneklem_ortalamaları1 = []\n",
    "k=[]\n",
    "s=[]\n",
    "for i in range(1,100,1):\n",
    "    atıs = np.random.binomial(i, 0.75, 100)\n",
    "    p = np.sum((atıs/i)>0.50)/100\n",
    "    örneklem1.append(atıs)\n",
    "    örneklem_ortalamaları1.append(p)\n",
    "    if p>0.95:\n",
    "        k.append(i)\n",
    "        s.append(p)\n",
    "\n",
    "print(\"{} para ile tura gelme olasığı {} yani %95 den fazla oluyor \".format(k[0],s[0]))"
   ]
  },
  {
   "cell_type": "code",
   "execution_count": 30,
   "id": "alternate-innocent",
   "metadata": {},
   "outputs": [],
   "source": [
    "örneklem2 = []\n",
    "örneklem_ortalamaları2 = []\n",
    "k=[]\n",
    "t=[]\n",
    "for i in range(1,100,1):\n",
    "    atıs = np.random.binomial(i, 0.50, 100)\n",
    "    p = np.sum((atıs/i))/100\n",
    "    örneklem2.append(atıs)\n",
    "    örneklem_ortalamaları2.append(p)\n",
    "    k.append(i)\n",
    "    t.append(örneklem_ortalamaları2)"
   ]
  },
  {
   "cell_type": "code",
   "execution_count": 31,
   "id": "conscious-sauce",
   "metadata": {},
   "outputs": [
    {
     "data": {
      "image/png": "[encoded data removed]",
      "text/plain": [
       "<Figure size 1500x300 with 2 Axes>"
      ]
     },
     "metadata": {},
     "output_type": "display_data"
    }
   ],
   "source": [
    "plt.figure(figsize=(15,3), dpi=100)\n",
    "orneklem_plotla(örneklem_ortalamaları1,100, 121) \n",
    "orneklem_plotla(örneklem_ortalamaları2, 100, 122)\n",
    "plt.show()"
   ]
  },
  {
   "cell_type": "markdown",
   "id": "formal-darkness",
   "metadata": {},
   "source": [
    "s=[]\n",
    "örneklem_ortalamaları1 = []\n",
    "örneklem1 = []\n",
    "for i in range(1,100,1):\n",
    "    atıs = np.random.binomial(i, 0.75, 100)\n",
    "    örneklem1.append(atıs)\n",
    "    p = np.sum((atıs/i))/100\n",
    "    örneklem_ortalamaları1.append(p)\n",
    "    s.append(örneklem_ortalamaları1)\n",
    "s"
   ]
  },
  {
   "cell_type": "markdown",
   "id": "finite-router",
   "metadata": {},
   "source": [
    "Büyük sayılar yasası örneklem sayımız arttıkça bizim daha doğru bir tahminde bulunmamızı sağlar. Yeterli sayıda deneme yapıldığı zaman adil parayı mı yoksa adil olmayan parayı mı seçtiğimizi çok rahat bir şekilde elde edebiliriz."
   ]
  },
  {
   "cell_type": "markdown",
   "id": "functioning-kazakhstan",
   "metadata": {},
   "source": [
    "# (1) By using distribution=np.random.name_distribution([],[]), write the name of distribution of your choice in place of name_distributionand fill out the bracket with your choice again. Then please,\n",
    "\n",
    "(a) Draw the histogram and interpret"
   ]
  },
  {
   "cell_type": "code",
   "execution_count": 32,
   "id": "psychological-midwest",
   "metadata": {},
   "outputs": [
    {
     "data": {
      "image/png": "[encoded data removed]",
      "text/plain": [
       "<Figure size 1440x576 with 2 Axes>"
      ]
     },
     "metadata": {},
     "output_type": "display_data"
    }
   ],
   "source": [
    "import numpy as np\n",
    "import matplotlib.pyplot as plt\n",
    "import seaborn as sns\n",
    "from scipy import stats\n",
    "import warnings\n",
    "warnings.filterwarnings(\"ignore\")\n",
    "standart_normal_dagilimli = np.random.normal(0, 1, 1000)\n",
    "standart_normal_dagilimli.sort()\n",
    "mu, sigma = 0, 0.1\n",
    "distribution=np.random.normal(mu, sigma, 1000)\n",
    "distribution.sort()\n",
    "plt.figure(figsize=(20,8))\n",
    "plt.subplot(121)\n",
    "plt.hist(distribution, bins = 50)\n",
    "plt.ylabel('Tekrar Sayısı') \n",
    "plt.xlabel('Değer')\n",
    "plt.subplot(122)\n",
    "plt.plot(distribution, standart_normal_dagilimli, \"o\") \n",
    "plt.ylabel('Normal Dağılım') \n",
    "plt.xlabel('Standart Normal Dağılım')\n",
    "plt.show()"
   ]
  },
  {
   "cell_type": "markdown",
   "id": "needed-butler",
   "metadata": {},
   "source": [
    "## Normal dağılım bir dağılım olacak şekilde random değerleri ürettim. Histogramda görüldüğü üzere normal dağılım olduğu görülüyor. Değerler merkezde toplanmış. Q-Q grafiğimiz de, normal dağılımlı değişkenle aynı dağılımı paylaşıyorsa, sonuç sol alt köşeden sağ üst köşeye giden düz bir çizgi olmalıdır ki grafiğimiz de bu tanıma çok yakın."
   ]
  },
  {
   "cell_type": "markdown",
   "id": "unknown-advocacy",
   "metadata": {},
   "source": [
    "**(2)** Get the google stock quotes from 2015-2017 using https://finance.yahoo.com/. Using this data, calculate the stock return with the following formula:\n",
    "\n",
    "$$P_t-P_{t-1}/P_{t-1}$$\n",
    "\n",
    "where $P_t$ represents the stock price at time t and $P_{t-1}$ denotes the stock price at time t-1. What do you think about the return distribution? \n",
    "\n",
    "**Note:** Data is retrieved from https://finance.yahoo.com/ as follows. After clicking the given address, type the name of the stock you want to search in the search section (eg google). Click on the search result below to go to the relevant stock. When you get to the page with the relevant stock information, click the Historical Prices tab, select the relevant date range, then click Apply. Finally, click the Download Data button to download the data. Alternative you can use `yfinance` library"
   ]
  },
  {
   "cell_type": "code",
   "execution_count": 33,
   "id": "supreme-prefix",
   "metadata": {},
   "outputs": [
    {
     "name": "stdout",
     "output_type": "stream",
     "text": [
      "[*********************100%***********************]  1 of 1 completed\n"
     ]
    },
    {
     "data": {
      "image/png": "[encoded data removed]",
      "text/plain": [
       "<Figure size 432x288 with 1 Axes>"
      ]
     },
     "metadata": {},
     "output_type": "display_data"
    },
    {
     "data": {
      "text/html": [
       "<div>\n",
       "<style scoped>\n",
       "    .dataframe tbody tr th:only-of-type {\n",
       "        vertical-align: middle;\n",
       "    }\n",
       "\n",
       "    .dataframe tbody tr th {\n",
       "        vertical-align: top;\n",
       "    }\n",
       "\n",
       "    .dataframe thead th {\n",
       "        text-align: right;\n",
       "    }\n",
       "</style>\n",
       "<table border=\"1\" class=\"dataframe\">\n",
       "  <thead>\n",
       "    <tr style=\"text-align: right;\">\n",
       "      <th></th>\n",
       "      <th>Open</th>\n",
       "      <th>High</th>\n",
       "      <th>Low</th>\n",
       "      <th>Close</th>\n",
       "      <th>Adj Close</th>\n",
       "      <th>Volume</th>\n",
       "      <th>getiri</th>\n",
       "      <th>fark</th>\n",
       "      <th>Getiri_Oranı</th>\n",
       "    </tr>\n",
       "    <tr>\n",
       "      <th>Date</th>\n",
       "      <th></th>\n",
       "      <th></th>\n",
       "      <th></th>\n",
       "      <th></th>\n",
       "      <th></th>\n",
       "      <th></th>\n",
       "      <th></th>\n",
       "      <th></th>\n",
       "      <th></th>\n",
       "    </tr>\n",
       "  </thead>\n",
       "  <tbody>\n",
       "    <tr>\n",
       "      <th>2017-01-03</th>\n",
       "      <td>28.950001</td>\n",
       "      <td>29.082500</td>\n",
       "      <td>28.690001</td>\n",
       "      <td>29.037500</td>\n",
       "      <td>27.459938</td>\n",
       "      <td>115127600</td>\n",
       "      <td>29.037500</td>\n",
       "      <td>NaN</td>\n",
       "      <td>NaN</td>\n",
       "    </tr>\n",
       "    <tr>\n",
       "      <th>2017-01-04</th>\n",
       "      <td>28.962500</td>\n",
       "      <td>29.127501</td>\n",
       "      <td>28.937500</td>\n",
       "      <td>29.004999</td>\n",
       "      <td>27.429203</td>\n",
       "      <td>84472400</td>\n",
       "      <td>29.004999</td>\n",
       "      <td>29.037500</td>\n",
       "      <td>-0.111928</td>\n",
       "    </tr>\n",
       "    <tr>\n",
       "      <th>2017-01-05</th>\n",
       "      <td>28.980000</td>\n",
       "      <td>29.215000</td>\n",
       "      <td>28.952499</td>\n",
       "      <td>29.152500</td>\n",
       "      <td>27.568691</td>\n",
       "      <td>88774400</td>\n",
       "      <td>29.152500</td>\n",
       "      <td>29.004999</td>\n",
       "      <td>0.508536</td>\n",
       "    </tr>\n",
       "    <tr>\n",
       "      <th>2017-01-06</th>\n",
       "      <td>29.195000</td>\n",
       "      <td>29.540001</td>\n",
       "      <td>29.117500</td>\n",
       "      <td>29.477501</td>\n",
       "      <td>27.876030</td>\n",
       "      <td>127007600</td>\n",
       "      <td>29.477501</td>\n",
       "      <td>29.152500</td>\n",
       "      <td>1.114830</td>\n",
       "    </tr>\n",
       "    <tr>\n",
       "      <th>2017-01-09</th>\n",
       "      <td>29.487499</td>\n",
       "      <td>29.857500</td>\n",
       "      <td>29.485001</td>\n",
       "      <td>29.747499</td>\n",
       "      <td>28.131361</td>\n",
       "      <td>134247600</td>\n",
       "      <td>29.747499</td>\n",
       "      <td>29.477501</td>\n",
       "      <td>0.915948</td>\n",
       "    </tr>\n",
       "    <tr>\n",
       "      <th>...</th>\n",
       "      <td>...</td>\n",
       "      <td>...</td>\n",
       "      <td>...</td>\n",
       "      <td>...</td>\n",
       "      <td>...</td>\n",
       "      <td>...</td>\n",
       "      <td>...</td>\n",
       "      <td>...</td>\n",
       "      <td>...</td>\n",
       "    </tr>\n",
       "    <tr>\n",
       "      <th>2018-12-24</th>\n",
       "      <td>37.037498</td>\n",
       "      <td>37.887501</td>\n",
       "      <td>36.647499</td>\n",
       "      <td>36.707500</td>\n",
       "      <td>35.800995</td>\n",
       "      <td>148676800</td>\n",
       "      <td>36.707500</td>\n",
       "      <td>37.682499</td>\n",
       "      <td>-2.587404</td>\n",
       "    </tr>\n",
       "    <tr>\n",
       "      <th>2018-12-26</th>\n",
       "      <td>37.075001</td>\n",
       "      <td>39.307499</td>\n",
       "      <td>36.680000</td>\n",
       "      <td>39.292500</td>\n",
       "      <td>38.322155</td>\n",
       "      <td>234330000</td>\n",
       "      <td>39.292500</td>\n",
       "      <td>36.707500</td>\n",
       "      <td>7.042155</td>\n",
       "    </tr>\n",
       "    <tr>\n",
       "      <th>2018-12-27</th>\n",
       "      <td>38.959999</td>\n",
       "      <td>39.192501</td>\n",
       "      <td>37.517502</td>\n",
       "      <td>39.037498</td>\n",
       "      <td>38.073456</td>\n",
       "      <td>212468400</td>\n",
       "      <td>39.037498</td>\n",
       "      <td>39.292500</td>\n",
       "      <td>-0.648982</td>\n",
       "    </tr>\n",
       "    <tr>\n",
       "      <th>2018-12-28</th>\n",
       "      <td>39.375000</td>\n",
       "      <td>39.630001</td>\n",
       "      <td>38.637501</td>\n",
       "      <td>39.057499</td>\n",
       "      <td>38.092960</td>\n",
       "      <td>169165600</td>\n",
       "      <td>39.057499</td>\n",
       "      <td>39.037498</td>\n",
       "      <td>0.051234</td>\n",
       "    </tr>\n",
       "    <tr>\n",
       "      <th>2018-12-31</th>\n",
       "      <td>39.632500</td>\n",
       "      <td>39.840000</td>\n",
       "      <td>39.119999</td>\n",
       "      <td>39.435001</td>\n",
       "      <td>38.461140</td>\n",
       "      <td>140014000</td>\n",
       "      <td>39.435001</td>\n",
       "      <td>39.057499</td>\n",
       "      <td>0.966530</td>\n",
       "    </tr>\n",
       "  </tbody>\n",
       "</table>\n",
       "<p>502 rows × 9 columns</p>\n",
       "</div>"
      ],
      "text/plain": [
       "                 Open       High        Low      Close  Adj Close     Volume  \\\n",
       "Date                                                                           \n",
       "2017-01-03  28.950001  29.082500  28.690001  29.037500  27.459938  115127600   \n",
       "2017-01-04  28.962500  29.127501  28.937500  29.004999  27.429203   84472400   \n",
       "2017-01-05  28.980000  29.215000  28.952499  29.152500  27.568691   88774400   \n",
       "2017-01-06  29.195000  29.540001  29.117500  29.477501  27.876030  127007600   \n",
       "2017-01-09  29.487499  29.857500  29.485001  29.747499  28.131361  134247600   \n",
       "...               ...        ...        ...        ...        ...        ...   \n",
       "2018-12-24  37.037498  37.887501  36.647499  36.707500  35.800995  148676800   \n",
       "2018-12-26  37.075001  39.307499  36.680000  39.292500  38.322155  234330000   \n",
       "2018-12-27  38.959999  39.192501  37.517502  39.037498  38.073456  212468400   \n",
       "2018-12-28  39.375000  39.630001  38.637501  39.057499  38.092960  169165600   \n",
       "2018-12-31  39.632500  39.840000  39.119999  39.435001  38.461140  140014000   \n",
       "\n",
       "               getiri       fark  Getiri_Oranı  \n",
       "Date                                            \n",
       "2017-01-03  29.037500        NaN           NaN  \n",
       "2017-01-04  29.004999  29.037500     -0.111928  \n",
       "2017-01-05  29.152500  29.004999      0.508536  \n",
       "2017-01-06  29.477501  29.152500      1.114830  \n",
       "2017-01-09  29.747499  29.477501      0.915948  \n",
       "...               ...        ...           ...  \n",
       "2018-12-24  36.707500  37.682499     -2.587404  \n",
       "2018-12-26  39.292500  36.707500      7.042155  \n",
       "2018-12-27  39.037498  39.292500     -0.648982  \n",
       "2018-12-28  39.057499  39.037498      0.051234  \n",
       "2018-12-31  39.435001  39.057499      0.966530  \n",
       "\n",
       "[502 rows x 9 columns]"
      ]
     },
     "execution_count": 33,
     "metadata": {},
     "output_type": "execute_result"
    }
   ],
   "source": [
    "import pandas as pd\n",
    "import yfinance as yf\n",
    "df = yf.download('AAPL',\n",
    "            start = \"2017-01-01\",\n",
    "            end = \"2019-01-01\", \n",
    "            interval='1d', prepost=True)\n",
    "df2 = df.copy()\n",
    "df2['getiri'] = df2[\"Close\"]\n",
    "df2['fark'] = df2[\"Close\"].shift(1)\n",
    "df2['Getiri_Oranı']= (df2['getiri']-df2['fark'])*100/df2['fark']\n",
    "df2.head()\n",
    "import matplotlib.pyplot as plt \n",
    "import seaborn as sns\n",
    "sns.distplot(df2[\"Getiri_Oranı\"].dropna())\n",
    "plt.show()\n",
    "df2"
   ]
  }
 ],
 "metadata": {
  "kernelspec": {
   "display_name": "Python 3",
   "language": "python",
   "name": "python3"
  },
  "language_info": {
   "codemirror_mode": {
    "name": "ipython",
    "version": 3
   },
   "file_extension": ".py",
   "mimetype": "text/x-python",
   "name": "python",
   "nbconvert_exporter": "python",
   "pygments_lexer": "ipython3",
   "version": "3.9.4"
  }
 },
 "nbformat": 4,
 "nbformat_minor": 5
}
